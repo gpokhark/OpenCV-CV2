{
 "cells": [
  {
   "cell_type": "code",
   "execution_count": null,
   "id": "4671da9b",
   "metadata": {},
   "outputs": [],
   "source": [
    "import cv2, dlib\n",
    "import sys\n",
    "from renderFace import renderFace\n",
    "from dataPath import DATA_PATH\n",
    "from dataPath import MODEL_PATH\n",
    "import matplotlib.pyplot as plt\n",
    "%matplotlib inline"
   ]
  },
  {
   "cell_type": "code",
   "execution_count": null,
   "id": "c0686276",
   "metadata": {},
   "outputs": [],
   "source": [
    "PREDICTOR_PATH = MODEL_PATH + \"shape_predictor_68_face_landmarks.dat\""
   ]
  },
  {
   "cell_type": "code",
   "execution_count": null,
   "id": "9d4ce20a",
   "metadata": {},
   "outputs": [],
   "source": [
    "RESIZE_HEIGHT = 480\n",
    "SKIP_FRAMES = 2"
   ]
  },
  {
   "cell_type": "code",
   "execution_count": null,
   "id": "a5b3908d",
   "metadata": {},
   "outputs": [],
   "source": [
    "winName = \"Fast Facial Landmark Detector\"\n",
    "cap = cv2.VideoCapture(0)\n",
    "\n",
    "if(cap.isOpened() is False):\n",
    "    print(\"Unable to connect to camera\")\n",
    "    sys.exit()\n",
    "    \n",
    "fps = 30.0\n",
    "ret, im = cap.read()\n",
    "\n",
    "print(im.shape)"
   ]
  },
  {
   "cell_type": "code",
   "execution_count": null,
   "id": "4f8d0b76",
   "metadata": {},
   "outputs": [],
   "source": [
    "if ret == True:\n",
    "    height = im.shape[0]\n",
    "    RESIZE_SCALE = float(height)/RESIZE_HEIGHT\n",
    "    size = im.shape[0:2]\n",
    "    print(size)\n",
    "else:\n",
    "    print(\"Unable to read frame\")\n",
    "    sys.exit()"
   ]
  },
  {
   "cell_type": "code",
   "execution_count": null,
   "id": "afeb1e55",
   "metadata": {},
   "outputs": [],
   "source": [
    "detector = dlib.get_frontal_face_detector()\n",
    "predictor = dlib.shape_predictor(PREDICTOR_PATH)\n",
    "t = cv2.getTickCount()\n",
    "count = 0"
   ]
  },
  {
   "cell_type": "code",
   "execution_count": null,
   "id": "657bd48d",
   "metadata": {},
   "outputs": [],
   "source": [
    "key = 0\n",
    "while(True):\n",
    "    if count == 0:\n",
    "        t = cv2.getTickCount()\n",
    "        \n",
    "    ret, im = cap.read()\n",
    "    \n",
    "    if ret == True and key != 27:       \n",
    "        imDlib = cv2.cvtColor(im, cv2.COLOR_BGR2RGB)\n",
    "        imSmall = cv2.resize(im, None, fx = 1.0/RESIZE_SCALE, fy = 1.0/RESIZE_SCALE, interpolation = cv2.INTER_LINEAR)\n",
    "        imSmallDlib = cv2.cvtColor(imSmall, cv2.COLOR_BGR2RGB)\n",
    "    \n",
    "        if(count % SKIP_FRAMES == 0):\n",
    "            faces = detector(imSmallDlib, 0)\n",
    "        \n",
    "        for face in faces:\n",
    "            newRect = dlib.rectangle(int(face.left() * RESIZE_SCALE),\n",
    "                                    int(face.top() * RESIZE_SCALE),\n",
    "                                    int(face.right() * RESIZE_SCALE),\n",
    "                                    int(face.bottom() * RESIZE_SCALE))\n",
    "        \n",
    "            shape = predictor(imDlib, newRect)\n",
    "            renderFace(im, shape)\n",
    "        \n",
    "        cv2.putText(im, \"{0:.2f}-fps\".format(fps), (50, size[0]-50), cv2.FONT_HERSHEY_COMPLEX, 1.5, (0,0,255), 3)\n",
    "        \n",
    "        cv2.imshow(winName, im)\n",
    "        key = cv2.waitKey(25)\n",
    "        \n",
    "        if key == 27: #ESC\n",
    "            cv2.destroyAllWindows()\n",
    "            cap.release()\n",
    "            break\n",
    "        \n",
    "        count = count + 1\n",
    "        \n",
    "        if (count == 100):\n",
    "            t = (cv2.getTickCount() - t)/cv2.getTickFrequency()\n",
    "            fps = 100.0/t\n",
    "            count = 0\n",
    "        \n",
    "cv2.destroyAllWindows()\n",
    "cap.release()"
   ]
  }
 ],
 "metadata": {
  "kernelspec": {
   "display_name": "Python 3 (ipykernel)",
   "language": "python",
   "name": "python3"
  },
  "language_info": {
   "codemirror_mode": {
    "name": "ipython",
    "version": 3
   },
   "file_extension": ".py",
   "mimetype": "text/x-python",
   "name": "python",
   "nbconvert_exporter": "python",
   "pygments_lexer": "ipython3",
   "version": "3.7.13"
  }
 },
 "nbformat": 4,
 "nbformat_minor": 5
}
